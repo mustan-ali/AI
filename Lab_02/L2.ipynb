{
 "cells": [
  {
   "cell_type": "markdown",
   "id": "47462ff3",
   "metadata": {},
   "source": [
    "### **Data Types**\n",
    "- **int**: 1 2 3 4 5\n",
    "- **float**: 1.0 2.0 3.0 4.0 5.0\n",
    "- **string**: \"a\" \"b\" \"c\" \"d\" \"e\"\n",
    "- **boolean**: True False\n",
    "- **list**: [1, 2, 3, 4, 5]\n",
    "- **tuple**: (1, 2, 3, 4, 5)\n",
    "- **set**: {1, 2, 3, 4, 5}\n",
    "- **dictionary**: {\"a\": 1, \"b\": 2, \"c\": 3, \"d\": 4, \"e\": 5}"
   ]
  },
  {
   "cell_type": "code",
   "execution_count": 2,
   "id": "2dae128b",
   "metadata": {},
   "outputs": [
    {
     "name": "stdout",
     "output_type": "stream",
     "text": [
      "<class 'int'>\n",
      "<class 'float'>\n",
      "<class 'str'>\n",
      "<class 'bool'>\n",
      "<class 'list'>\n",
      "<class 'tuple'>\n",
      "<class 'set'>\n",
      "<class 'dict'>\n"
     ]
    }
   ],
   "source": [
    "a = 3\n",
    "b = 2.5\n",
    "c = \"hello\"\n",
    "d = True\n",
    "e = [1, 2, 3]\n",
    "f = (1, 2, 3)\n",
    "g = {1, 2, 3}\n",
    "h = {\"name\": \"John\", \"age\": 30}\n",
    "\n",
    "print(type(a))\n",
    "print(type(b))\n",
    "print(type(c))\n",
    "print(type(d))\n",
    "print(type(e))\n",
    "print(type(f))\n",
    "print(type(g))\n",
    "print(type(h))"
   ]
  },
  {
   "cell_type": "markdown",
   "id": "83fd5b19",
   "metadata": {},
   "source": [
    "---\n",
    "### **User Input**\n",
    "- converts the input to string"
   ]
  },
  {
   "cell_type": "code",
   "execution_count": 3,
   "id": "069d13a8",
   "metadata": {},
   "outputs": [
    {
     "name": "stdout",
     "output_type": "stream",
     "text": [
      "<class 'str'>\n"
     ]
    }
   ],
   "source": [
    "number = input()\n",
    "print(type(number))"
   ]
  },
  {
   "cell_type": "markdown",
   "id": "6efd8b5c",
   "metadata": {},
   "source": [
    "---\n",
    "### **Type Casting**\n",
    "* **Implicit:** done automatically by the compiler  \n",
    "* **Explicit:** done by the programmer using predefined functions \n",
    "    - int()\n",
    "    - float()\n",
    "    - str()"
   ]
  },
  {
   "cell_type": "code",
   "execution_count": 5,
   "id": "29e80759",
   "metadata": {},
   "outputs": [
    {
     "name": "stdout",
     "output_type": "stream",
     "text": [
      "Addition:  9\n",
      "Subtraction:  -3\n",
      "Multiplication:  18\n",
      "Division:  0.5\n",
      "Modulus:  3\n",
      "Exponent:  729\n"
     ]
    }
   ],
   "source": [
    "num1 = int(input())\n",
    "num2 = int(input())\n",
    "\n",
    "print(\"Addition: \", num1 + num2)\n",
    "print(\"Subtraction: \", num1 - num2)\n",
    "print(\"Multiplication: \", num1 * num2)\n",
    "print(\"Division: \", num1 / num2)\n",
    "print(\"Modulus: \", num1 % num2)\n",
    "print(\"Exponent: \", num1**num2)"
   ]
  },
  {
   "cell_type": "markdown",
   "id": "148a65e9",
   "metadata": {},
   "source": [
    "---\n",
    "### **Slicing**\n",
    "* Extraction of a part of a string, list, or tuple.\n",
    "* Syntax: [start:stop:step]\n",
    "  * start: starting index\n",
    "  * stop: ending index (n - 1)\n",
    "  * step: increment"
   ]
  },
  {
   "cell_type": "code",
   "execution_count": 6,
   "id": "8d6b0730",
   "metadata": {},
   "outputs": [
    {
     "name": "stdout",
     "output_type": "stream",
     "text": [
      "Hello World!\n",
      "ello World!\n",
      "e\n",
      "Hello\n",
      "Hello World!\n"
     ]
    }
   ],
   "source": [
    "S = \"Hello World!\"\n",
    "\n",
    "print(S[0:])  # Start from 0 and go to the end\n",
    "print(S[1:])  # Start from 1 and go to the end\n",
    "print(S[1:2])  # Start from 1 and go to 2\n",
    "print(S[:5])  # Start from 0 and go to 5\n",
    "print(S[:])  # Start from 0 and go to the end"
   ]
  },
  {
   "cell_type": "markdown",
   "id": "6ecaa748",
   "metadata": {},
   "source": [
    "---\n",
    "### **IF-ELSE Statement**"
   ]
  },
  {
   "cell_type": "code",
   "execution_count": null,
   "id": "c0e0ed70",
   "metadata": {},
   "outputs": [],
   "source": [
    "age = int(input())\n",
    "\n",
    "if age > 18:\n",
    "    print(\"You are over age\")\n",
    "elif age < 18:\n",
    "    print(\"You are under age\")\n",
    "else:\n",
    "    print(\"You are 18\")"
   ]
  },
  {
   "cell_type": "markdown",
   "id": "e2c4102d",
   "metadata": {},
   "source": [
    "---\n",
    "### **Array, List, Tuple**"
   ]
  },
  {
   "cell_type": "markdown",
   "id": "aa21779c",
   "metadata": {},
   "source": [
    "Array            | Tuple              | List\n",
    "|---             |---                 |---    |\n",
    "Mutable          | Immutable          | Mutable\n",
    "Single data type | Multiple data type | Multiple data type\n"
   ]
  },
  {
   "cell_type": "code",
   "execution_count": 13,
   "id": "6c7b117c",
   "metadata": {},
   "outputs": [
    {
     "name": "stdout",
     "output_type": "stream",
     "text": [
      "1\n",
      "2\n",
      "3\n",
      "4\n",
      "5\n"
     ]
    }
   ],
   "source": [
    "array = [1, 2, 3, 4, 5]\n",
    "\n",
    "for i in array:\n",
    "    print(i)"
   ]
  },
  {
   "cell_type": "code",
   "execution_count": 12,
   "id": "bd5ab20e",
   "metadata": {},
   "outputs": [
    {
     "name": "stdout",
     "output_type": "stream",
     "text": [
      "1\n",
      "2.5\n",
      "Hello\n",
      "3\n",
      "4\n",
      "World\n",
      "Length:  6\n",
      "Hello\n",
      "3\n",
      "4\n"
     ]
    }
   ],
   "source": [
    "list = [1, 2.5, \"Hello\", 3, 4, \"World\"]\n",
    "\n",
    "for i in list:\n",
    "    print(i)\n",
    "\n",
    "print(\"Length: \", len(list))\n",
    "\n",
    "sublist = list[2:5]\n",
    "\n",
    "for j in sublist:\n",
    "    print(j)"
   ]
  },
  {
   "cell_type": "code",
   "execution_count": 15,
   "id": "fa527252",
   "metadata": {},
   "outputs": [
    {
     "name": "stdout",
     "output_type": "stream",
     "text": [
      "1\n",
      "2.5\n",
      "Hello\n",
      "3\n",
      "4\n",
      "World\n",
      "Hello\n",
      "3\n",
      "4\n"
     ]
    }
   ],
   "source": [
    "tuple = (1, 2.5, \"Hello\", 3, 4, \"World\")\n",
    "\n",
    "for i in tuple:\n",
    "    print(i)\n",
    "\n",
    "subtuple = list[2:5]\n",
    "\n",
    "for j in subtuple:\n",
    "    print(j)"
   ]
  },
  {
   "cell_type": "code",
   "execution_count": 8,
   "id": "be36332f",
   "metadata": {},
   "outputs": [
    {
     "name": "stdout",
     "output_type": "stream",
     "text": [
      "1 * 2 = 2\n",
      "2 * 2 = 4\n",
      "3 * 2 = 6\n",
      "4 * 2 = 8\n",
      "5 * 2 = 10\n",
      "6 * 2 = 12\n",
      "7 * 2 = 14\n",
      "8 * 2 = 16\n",
      "9 * 2 = 18\n",
      "10 * 2 = 20\n"
     ]
    }
   ],
   "source": [
    "# Print the multiplication table of a number if it is even\n",
    "list1 = [1, 2, 3, 4, 5, 6, 7, 8, 9, 10]\n",
    "\n",
    "num = int(input())\n",
    "\n",
    "if num % 2 == 0:\n",
    "    for x in list1:\n",
    "        print(x, \"*\", num, \"=\", x * num)\n",
    "else:\n",
    "    print(\"Number is Odd\")"
   ]
  },
  {
   "cell_type": "markdown",
   "id": "743add64",
   "metadata": {},
   "source": [
    "---\n",
    "### **Range**\n",
    "* range(stop)\n",
    "* range(start, stop)\n",
    "* range(start, stop, step)"
   ]
  },
  {
   "cell_type": "code",
   "execution_count": 10,
   "id": "7ed5fe50",
   "metadata": {},
   "outputs": [
    {
     "name": "stdout",
     "output_type": "stream",
     "text": [
      "0\n",
      "1\n",
      "2\n",
      "3\n",
      "4\n",
      "5\n",
      "6\n",
      "7\n",
      "8\n",
      "9\n",
      "10\n"
     ]
    }
   ],
   "source": [
    "r1 = range(11)\n",
    "r2 = range(1, 11, 2)\n",
    "r3 = range(1, 11)\n",
    "\n",
    "for x in r1:\n",
    "    print(x)"
   ]
  },
  {
   "cell_type": "markdown",
   "id": "e0df7037",
   "metadata": {},
   "source": [
    "---\n",
    "### **Dictionary**\n",
    "* Collection of keys & values."
   ]
  },
  {
   "cell_type": "code",
   "execution_count": 11,
   "id": "8fc11520",
   "metadata": {},
   "outputs": [
    {
     "name": "stdout",
     "output_type": "stream",
     "text": [
      "dict_keys(['name', 'age', 'gender'])\n",
      "dict_values(['John', 20, 'Male'])\n",
      "John\n",
      "<class 'str'>\n"
     ]
    }
   ],
   "source": [
    "person = {\"name\": \"John\", \"age\": 20, \"gender\": \"Male\"}\n",
    "\n",
    "print(person.keys())\n",
    "print(person.values())\n",
    "print(person[\"name\"])\n",
    "print(type(person[\"name\"]))"
   ]
  },
  {
   "cell_type": "code",
   "execution_count": 16,
   "id": "58795735",
   "metadata": {},
   "outputs": [
    {
     "name": "stdout",
     "output_type": "stream",
     "text": [
      "dict_values(['John', '20', 'Male', 'szabist', 'bscs', '2021'])\n"
     ]
    }
   ],
   "source": [
    "student = {\n",
    "    \"name\": \"\",\n",
    "    \"age\": \"\",\n",
    "    \"gender\": \"\",\n",
    "    \"university\": \"\",\n",
    "    \"program\": \"\",\n",
    "    \"year\": \"\",\n",
    "}\n",
    "\n",
    "#Adding values using input\n",
    "student[\"name\"] = input()\n",
    "student[\"age\"] = input()\n",
    "student[\"gender\"] = input()\n",
    "student[\"university\"] = input()\n",
    "student[\"program\"] = input()\n",
    "student[\"year\"] = input()\n",
    "\n",
    "\n",
    "print(student.values())"
   ]
  }
 ],
 "metadata": {
  "kernelspec": {
   "display_name": "Python 3 (ipykernel)",
   "language": "python",
   "name": "python3"
  },
  "language_info": {
   "codemirror_mode": {
    "name": "ipython",
    "version": 3
   },
   "file_extension": ".py",
   "mimetype": "text/x-python",
   "name": "python",
   "nbconvert_exporter": "python",
   "pygments_lexer": "ipython3",
   "version": "3.11.5"
  }
 },
 "nbformat": 4,
 "nbformat_minor": 5
}
