{
 "cells": [
  {
   "cell_type": "markdown",
   "metadata": {},
   "source": [
    "### **Adjacency List**\n",
    "* Storing nodes and their adjacent nodes in a list."
   ]
  },
  {
   "cell_type": "code",
   "execution_count": 1,
   "metadata": {},
   "outputs": [
    {
     "data": {
      "text/plain": [
       "defaultdict(list,\n",
       "            {'A': ['B', 'C'],\n",
       "             'B': ['A', 'D', 'E'],\n",
       "             'C': ['A', 'F', 'G'],\n",
       "             'D': ['B', 'H', 'I'],\n",
       "             'E': ['B', 'J', 'K'],\n",
       "             'F': ['C', 'L', 'M'],\n",
       "             'G': ['C'],\n",
       "             'H': ['D'],\n",
       "             'I': ['D'],\n",
       "             'J': ['E'],\n",
       "             'K': ['E'],\n",
       "             'L': ['F'],\n",
       "             'M': ['F']})"
      ]
     },
     "execution_count": 1,
     "metadata": {},
     "output_type": "execute_result"
    }
   ],
   "source": [
    "from collections import defaultdict\n",
    "\n",
    "def generateAdjacencyList(edges):\n",
    "    adjacencyList = defaultdict(list)\n",
    "    for u,v in edges:\n",
    "        adjacencyList[u].append(v)\n",
    "        adjacencyList[v].append(u)\n",
    "    return adjacencyList\n",
    "\n",
    "edges = [\n",
    "    ['A','B'],['A','C'],['B','D'],['B','E'],\n",
    "    ['C','F'],['C','G'],['D','H'],['D','I'],\n",
    "    ['E','J'],['E','K'],['F','L'],['F','M'],\n",
    "]\n",
    "\n",
    "# edges = [\n",
    "#     ['2','4'],['2','6'],['4','8'],['4','10'],\n",
    "#     ['6','12'],['6','14'],['8','16'],['8','18'],\n",
    "#     ['10','20'],['10','22'],['12','24'],['12','26'],\n",
    "# ]\n",
    "\n",
    "adjacencyList = generateAdjacencyList(edges)\n",
    "adjacencyList"
   ]
  },
  {
   "cell_type": "markdown",
   "metadata": {},
   "source": [
    "---\n",
    "### **Breadh First Search**\n",
    "* Traversal approach in which we visit all the nodes at the present level before moving to the next level."
   ]
  },
  {
   "cell_type": "code",
   "execution_count": 2,
   "metadata": {},
   "outputs": [
    {
     "data": {
      "text/plain": [
       "['A', 'B', 'C', 'D', 'E', 'F', 'G', 'H', 'I', 'J', 'K', 'L', 'M']"
      ]
     },
     "execution_count": 2,
     "metadata": {},
     "output_type": "execute_result"
    }
   ],
   "source": [
    "def bfs(adjacencyList, vertex):\n",
    "    visitedSet = set()\n",
    "    queue = []\n",
    "    visitedSet.add(vertex)\n",
    "    queue.append(vertex)\n",
    "\n",
    "    result = []\n",
    "    while queue:\n",
    "        v = queue[0]\n",
    "        result.append(v)\n",
    "        queue = queue[1:]\n",
    "        for neighbor in adjacencyList[v]:\n",
    "            if neighbor not in visitedSet:\n",
    "                visitedSet.add(neighbor)\n",
    "                queue.append(neighbor)\n",
    "    return result\n",
    "\n",
    "\n",
    "bfs(adjacencyList, \"A\")"
   ]
  },
  {
   "cell_type": "markdown",
   "metadata": {},
   "source": [
    "---\n",
    "### **Depth First Search**\n",
    "* Traversal approach in which we visit all the nodes of a branch before moving to the next branch."
   ]
  },
  {
   "cell_type": "code",
   "execution_count": 3,
   "metadata": {},
   "outputs": [
    {
     "data": {
      "text/plain": [
       "['A', 'B', 'D', 'H', 'I', 'E', 'J', 'K', 'C', 'F', 'L', 'M', 'G']"
      ]
     },
     "execution_count": 3,
     "metadata": {},
     "output_type": "execute_result"
    }
   ],
   "source": [
    "def dfs(adjacencyList, vertex, visitedSet=None, path=None):\n",
    "    if visitedSet is None:\n",
    "        visitedSet = set()\n",
    "    if path is None:\n",
    "        path = []\n",
    "\n",
    "    visitedSet.add(vertex)\n",
    "    path.append(vertex)\n",
    "    if vertex in adjacencyList:\n",
    "        for neigbour in adjacencyList[vertex]:\n",
    "            if neigbour not in visitedSet:\n",
    "                dfs(adjacencyList, neigbour, visitedSet, path)\n",
    "    return path\n",
    "\n",
    "\n",
    "dfs(adjacencyList, \"A\")\n",
    "# dfs(adjacencyList,'2')"
   ]
  }
 ],
 "metadata": {
  "kernelspec": {
   "display_name": "Python 3.9.13 ('base')",
   "language": "python",
   "name": "python3"
  },
  "language_info": {
   "codemirror_mode": {
    "name": "ipython",
    "version": 3
   },
   "file_extension": ".py",
   "mimetype": "text/x-python",
   "name": "python",
   "nbconvert_exporter": "python",
   "pygments_lexer": "ipython3",
   "version": "3.11.5"
  },
  "orig_nbformat": 4,
  "vscode": {
   "interpreter": {
    "hash": "ad2bdc8ecc057115af97d19610ffacc2b4e99fae6737bb82f5d7fb13d2f2c186"
   }
  }
 },
 "nbformat": 4,
 "nbformat_minor": 2
}
