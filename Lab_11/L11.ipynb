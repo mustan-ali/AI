{
 "cells": [
  {
   "cell_type": "code",
   "execution_count": 9,
   "id": "d914b6fc",
   "metadata": {},
   "outputs": [
    {
     "data": {
      "text/plain": [
       "1.0"
      ]
     },
     "execution_count": 9,
     "metadata": {},
     "output_type": "execute_result"
    }
   ],
   "source": [
    "import pandas as pd\n",
    "from sklearn import tree\n",
    "from sklearn.preprocessing import LabelEncoder\n",
    "\n",
    "df = pd.read_csv(\"./salaries.csv\")\n",
    "\n",
    "inputs = df.drop(\"salary_more_then_100k\", axis=\"columns\")\n",
    "target = df[\"salary_more_then_100k\"]\n",
    "\n",
    "le_company = LabelEncoder()\n",
    "le_job = LabelEncoder()\n",
    "le_degree = LabelEncoder()\n",
    "\n",
    "inputs[\"company_n\"] = le_company.fit_transform(inputs[\"company\"])\n",
    "inputs[\"job_n\"] = le_job.fit_transform(inputs[\"job\"])\n",
    "inputs[\"degree_n\"] = le_degree.fit_transform(inputs[\"degree\"])\n",
    "\n",
    "inputs_n = inputs.drop([\"company\", \"job\", \"degree\"], axis=\"columns\")\n",
    "\n",
    "model = tree.DecisionTreeClassifier()\n",
    "\n",
    "model.fit(inputs_n, target)\n",
    "model.score(inputs_n, target)"
   ]
  }
 ],
 "metadata": {
  "kernelspec": {
   "display_name": "Python 3 (ipykernel)",
   "language": "python",
   "name": "python3"
  },
  "language_info": {
   "codemirror_mode": {
    "name": "ipython",
    "version": 3
   },
   "file_extension": ".py",
   "mimetype": "text/x-python",
   "name": "python",
   "nbconvert_exporter": "python",
   "pygments_lexer": "ipython3",
   "version": "3.11.5"
  }
 },
 "nbformat": 4,
 "nbformat_minor": 5
}
