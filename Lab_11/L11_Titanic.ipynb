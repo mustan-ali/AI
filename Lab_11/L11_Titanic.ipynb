{
 "cells": [
  {
   "cell_type": "code",
   "execution_count": 59,
   "id": "e8a064df",
   "metadata": {},
   "outputs": [
    {
     "data": {
      "text/plain": [
       "0.8472222222222222"
      ]
     },
     "execution_count": 59,
     "metadata": {},
     "output_type": "execute_result"
    }
   ],
   "source": [
    "import pandas as pd\n",
    "from sklearn import tree\n",
    "from sklearn.preprocessing import LabelEncoder\n",
    "from sklearn.model_selection import train_test_split\n",
    "\n",
    "df = pd.read_csv(\"./titanic.csv\")\n",
    "\n",
    "# print(df.isnull().sum())\n",
    "\n",
    "df = df.drop(\"Cabin\", axis=\"columns\")\n",
    "df = df.dropna(axis=\"rows\")\n",
    "\n",
    "\n",
    "input = df.drop([\"Survived\", \"Name\", \"Ticket\", \"PassengerId\"], axis=\"columns\")\n",
    "target = df[\"Survived\"]\n",
    "\n",
    "le_Sex = LabelEncoder()\n",
    "le_Embarked = LabelEncoder()\n",
    "\n",
    "input[\"Sex_n\"] = le_Sex.fit_transform(input[\"Sex\"])\n",
    "input[\"Embarked_n\"] = le_Sex.fit_transform(input[\"Embarked\"])\n",
    "\n",
    "input = input.drop([\"Sex\", \"Embarked\"], axis=\"columns\")\n",
    "\n",
    "xtr, xte, ytr, yte = train_test_split(input, target, train_size=0.90, random_state=10)\n",
    "\n",
    "model = tree.DecisionTreeClassifier()\n",
    "\n",
    "model.fit(xtr, ytr)\n",
    "model.score(xte, yte)"
   ]
  }
 ],
 "metadata": {
  "kernelspec": {
   "display_name": "Python 3 (ipykernel)",
   "language": "python",
   "name": "python3"
  },
  "language_info": {
   "codemirror_mode": {
    "name": "ipython",
    "version": 3
   },
   "file_extension": ".py",
   "mimetype": "text/x-python",
   "name": "python",
   "nbconvert_exporter": "python",
   "pygments_lexer": "ipython3",
   "version": "3.11.5"
  }
 },
 "nbformat": 4,
 "nbformat_minor": 5
}
